{
 "cells": [
  {
   "cell_type": "markdown",
   "metadata": {},
   "source": [
    "# Интерактивное демо"
   ]
  },
  {
   "cell_type": "markdown",
   "metadata": {},
   "source": [
    "#### Ниже приведен код, который реализует интерактивное демо. Нужно запустить код в ячейке и перейти по ссылке."
   ]
  },
  {
   "cell_type": "markdown",
   "metadata": {},
   "source": [
    "Для корректной работы демо необходимо загрузить в директорию содержимое папки целиком, далее запустить данный ноутбук. Код может выдавать ошибку в связи с разными версиями библиотек. В этом случае подгрузите свою модель. Модель в данной реализации должна представлять собой pipeline из векторайзера и классификатора."
   ]
  },
  {
   "cell_type": "code",
   "execution_count": null,
   "metadata": {},
   "outputs": [
    {
     "name": "stdout",
     "output_type": "stream",
     "text": [
      " * Serving Flask app \"__main__\" (lazy loading)\n",
      " * Environment: production\n",
      "   WARNING: This is a development server. Do not use it in a production deployment.\n",
      "   Use a production WSGI server instead.\n",
      " * Debug mode: off\n"
     ]
    },
    {
     "name": "stderr",
     "output_type": "stream",
     "text": [
      " * Running on http://127.0.0.1:5000/ (Press CTRL+C to quit)\n"
     ]
    }
   ],
   "source": [
    "from flask import Flask, render_template, request\n",
    "import pickle\n",
    "import warnings\n",
    "warnings.filterwarnings('ignore')\n",
    "\n",
    "#подгрузка модели\n",
    "model = pickle.load(open(\"clf.sav\", 'rb')) \n",
    "\n",
    "app = Flask(__name__)\n",
    "\n",
    "@app.route(\"/\", methods=[\"POST\", \"GET\"])\n",
    "def index_page(text=\"I hate this trash!\", prediction_message=\"\"):\n",
    "    if request.method == \"POST\":\n",
    "        text = request.form[\"text\"]\n",
    "        print(text)\n",
    "        class_label = model.predict([text]) #работа модели\n",
    "        if class_label==1:\n",
    "            prediction_message = 'positive'\n",
    "        else:\n",
    "            prediction_message = 'negative'\n",
    "    return render_template('Form.html', text=text, prediction_message=prediction_message) #вывод результатов\n",
    "\n",
    "\n",
    "if __name__ == \"__main__\":\n",
    "    app.run()"
   ]
  },
  {
   "cell_type": "code",
   "execution_count": null,
   "metadata": {},
   "outputs": [],
   "source": []
  }
 ],
 "metadata": {
  "kernelspec": {
   "display_name": "Python 3",
   "language": "python",
   "name": "python3"
  },
  "language_info": {
   "codemirror_mode": {
    "name": "ipython",
    "version": 3
   },
   "file_extension": ".py",
   "mimetype": "text/x-python",
   "name": "python",
   "nbconvert_exporter": "python",
   "pygments_lexer": "ipython3",
   "version": "3.7.3"
  }
 },
 "nbformat": 4,
 "nbformat_minor": 2
}
